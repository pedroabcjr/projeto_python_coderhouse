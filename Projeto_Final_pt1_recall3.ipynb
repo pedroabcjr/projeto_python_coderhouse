{
 "cells": [
  {
   "cell_type": "code",
   "execution_count": 1,
   "metadata": {},
   "outputs": [],
   "source": [
    "import pandas as pd\n",
    "from datetime import datetime\n",
    "from plyer import notification\n",
    "import requests"
   ]
  },
  {
   "cell_type": "code",
   "execution_count": 56,
   "metadata": {},
   "outputs": [],
   "source": [
    "#url = 'https://brasilapi.com.br/api/banks/v1' #bancos ok\n",
    "#url = 'https://brasilapi.com.br/api#tag/TAXAS/ibge/uf/v1' #capitais erro 404\n",
    "#url = 'https://brasilapi.com.br/api/cvm/corretoras/v1' #corretoras ok\n",
    "url = 'https://brasilapi.com.br/api/ibge/municipios/v1/SP?providers=dados-abertos-br,gov,wikipedia'"
   ]
  },
  {
   "cell_type": "code",
   "execution_count": 57,
   "metadata": {},
   "outputs": [],
   "source": [
    "def Alerta(nivel, base, etapa):\n",
    "    #base = base\n",
    "    #etapa = etapa\n",
    "    data_atual = datetime.now()\n",
    "    data_formatada = data_atual.strftime('%d/%m/%d')\n",
    "    mensagem = (f'Falha no carregamento da base {base} na etapa {etapa} em {data_formatada}')\n",
    "    title = nivel\n",
    "    notification.notify(title = title, message= mensagem, timeout= 10)"
   ]
  },
  {
   "cell_type": "code",
   "execution_count": 58,
   "metadata": {},
   "outputs": [],
   "source": [
    "while True: \n",
    "    response = requests.get(url)\n",
    "    response_code = response.status_code\n",
    "    break"
   ]
  },
  {
   "cell_type": "code",
   "execution_count": 59,
   "metadata": {},
   "outputs": [
    {
     "name": "stdout",
     "output_type": "stream",
     "text": [
      "Requisição Completa\n"
     ]
    }
   ],
   "source": [
    "if response_code == 200:\n",
    "    data_json = response.json()\n",
    "    df = pd.DataFrame(data_json)\n",
    "    print('Requisição Completa')\n",
    "else:\n",
    "    nivel = 'ATENÇÃO: Erro Grave'\n",
    "    Alerta(nivel = nivel, base='Data_Bank',etapa='Extração')"
   ]
  },
  {
   "cell_type": "code",
   "execution_count": 60,
   "metadata": {},
   "outputs": [
    {
     "data": {
      "text/html": [
       "<div>\n",
       "<style scoped>\n",
       "    .dataframe tbody tr th:only-of-type {\n",
       "        vertical-align: middle;\n",
       "    }\n",
       "\n",
       "    .dataframe tbody tr th {\n",
       "        vertical-align: top;\n",
       "    }\n",
       "\n",
       "    .dataframe thead th {\n",
       "        text-align: right;\n",
       "    }\n",
       "</style>\n",
       "<table border=\"1\" class=\"dataframe\">\n",
       "  <thead>\n",
       "    <tr style=\"text-align: right;\">\n",
       "      <th></th>\n",
       "      <th>nome</th>\n",
       "      <th>codigo_ibge</th>\n",
       "    </tr>\n",
       "  </thead>\n",
       "  <tbody>\n",
       "    <tr>\n",
       "      <th>0</th>\n",
       "      <td>ADAMANTINA</td>\n",
       "      <td>3500105</td>\n",
       "    </tr>\n",
       "    <tr>\n",
       "      <th>1</th>\n",
       "      <td>ADOLFO</td>\n",
       "      <td>3500204</td>\n",
       "    </tr>\n",
       "    <tr>\n",
       "      <th>2</th>\n",
       "      <td>AGUAÍ</td>\n",
       "      <td>3500303</td>\n",
       "    </tr>\n",
       "    <tr>\n",
       "      <th>3</th>\n",
       "      <td>ÁGUAS DA PRATA</td>\n",
       "      <td>3500402</td>\n",
       "    </tr>\n",
       "    <tr>\n",
       "      <th>4</th>\n",
       "      <td>ÁGUAS DE LINDÓIA</td>\n",
       "      <td>3500501</td>\n",
       "    </tr>\n",
       "  </tbody>\n",
       "</table>\n",
       "</div>"
      ],
      "text/plain": [
       "               nome codigo_ibge\n",
       "0        ADAMANTINA     3500105\n",
       "1            ADOLFO     3500204\n",
       "2             AGUAÍ     3500303\n",
       "3    ÁGUAS DA PRATA     3500402\n",
       "4  ÁGUAS DE LINDÓIA     3500501"
      ]
     },
     "execution_count": 60,
     "metadata": {},
     "output_type": "execute_result"
    }
   ],
   "source": [
    "df.head()"
   ]
  }
 ],
 "metadata": {
  "kernelspec": {
   "display_name": "Python 3",
   "language": "python",
   "name": "python3"
  },
  "language_info": {
   "codemirror_mode": {
    "name": "ipython",
    "version": 3
   },
   "file_extension": ".py",
   "mimetype": "text/x-python",
   "name": "python",
   "nbconvert_exporter": "python",
   "pygments_lexer": "ipython3",
   "version": "3.11.5"
  },
  "orig_nbformat": 4
 },
 "nbformat": 4,
 "nbformat_minor": 2
}
