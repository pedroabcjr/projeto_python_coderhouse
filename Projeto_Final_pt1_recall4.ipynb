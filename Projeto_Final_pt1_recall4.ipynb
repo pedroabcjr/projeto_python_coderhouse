{
 "cells": [
  {
   "cell_type": "code",
   "execution_count": 1,
   "metadata": {},
   "outputs": [],
   "source": [
    "import pandas as pd\n",
    "from datetime import datetime\n",
    "from plyer import notification\n",
    "import requests\n",
    "import numpy as np"
   ]
  },
  {
   "cell_type": "code",
   "execution_count": 19,
   "metadata": {},
   "outputs": [],
   "source": [
    "#url = 'https://brasilapi.com.br/api/cvm/corretoras/v1' #corretoras ok\n",
    "#url = 'https://brasilapi.com.br/api/banks/v1' #bancos ok\n",
    "url = 'https://restcountries.com/v3.1/all' #rest countries ok"
   ]
  },
  {
   "cell_type": "code",
   "execution_count": 9,
   "metadata": {},
   "outputs": [],
   "source": [
    "def Alerta(nivel, base, etapa):\n",
    "    \n",
    "    data_atual = datetime.now()\n",
    "    data_formatada = data_atual.strftime('%d/%m/%d')\n",
    "    mensagem = (f'Falha no carregamento da base {base} na etapa {etapa} em {data_formatada}')\n",
    "    title = nivel\n",
    "    notification.notify(title = title, message= mensagem, timeout= 10)"
   ]
  },
  {
   "cell_type": "code",
   "execution_count": 20,
   "metadata": {},
   "outputs": [],
   "source": [
    "while True: \n",
    "    response = requests.get(url)\n",
    "    response_code = response.status_code\n",
    "    break"
   ]
  },
  {
   "cell_type": "code",
   "execution_count": 21,
   "metadata": {},
   "outputs": [
    {
     "name": "stdout",
     "output_type": "stream",
     "text": [
      "Requisição Completa\n"
     ]
    }
   ],
   "source": [
    "if response_code == 200:\n",
    "    data_json = response.json()\n",
    "    df = pd.DataFrame(data_json)\n",
    "    print('Requisição Completa')\n",
    "else:\n",
    "    nivel = 'ATENÇÃO: Erro Grave'\n",
    "    Alerta(nivel = nivel, base='Data_Bank',etapa='Extração')"
   ]
  },
  {
   "cell_type": "code",
   "execution_count": 17,
   "metadata": {},
   "outputs": [
    {
     "data": {
      "text/html": [
       "<div>\n",
       "<style scoped>\n",
       "    .dataframe tbody tr th:only-of-type {\n",
       "        vertical-align: middle;\n",
       "    }\n",
       "\n",
       "    .dataframe tbody tr th {\n",
       "        vertical-align: top;\n",
       "    }\n",
       "\n",
       "    .dataframe thead th {\n",
       "        text-align: right;\n",
       "    }\n",
       "</style>\n",
       "<table border=\"1\" class=\"dataframe\">\n",
       "  <thead>\n",
       "    <tr style=\"text-align: right;\">\n",
       "      <th></th>\n",
       "      <th>ispb</th>\n",
       "      <th>name</th>\n",
       "      <th>code</th>\n",
       "      <th>fullName</th>\n",
       "    </tr>\n",
       "  </thead>\n",
       "  <tbody>\n",
       "    <tr>\n",
       "      <th>0</th>\n",
       "      <td>00000000</td>\n",
       "      <td>BCO DO BRASIL S.A.</td>\n",
       "      <td>1.0</td>\n",
       "      <td>Banco do Brasil S.A.</td>\n",
       "    </tr>\n",
       "    <tr>\n",
       "      <th>1</th>\n",
       "      <td>00000208</td>\n",
       "      <td>BRB - BCO DE BRASILIA S.A.</td>\n",
       "      <td>70.0</td>\n",
       "      <td>BRB - BANCO DE BRASILIA S.A.</td>\n",
       "    </tr>\n",
       "  </tbody>\n",
       "</table>\n",
       "</div>"
      ],
      "text/plain": [
       "       ispb                        name  code                      fullName\n",
       "0  00000000          BCO DO BRASIL S.A.   1.0          Banco do Brasil S.A.\n",
       "1  00000208  BRB - BCO DE BRASILIA S.A.  70.0  BRB - BANCO DE BRASILIA S.A."
      ]
     },
     "execution_count": 17,
     "metadata": {},
     "output_type": "execute_result"
    }
   ],
   "source": [
    "df.head(2)"
   ]
  },
  {
   "cell_type": "code",
   "execution_count": 13,
   "metadata": {},
   "outputs": [],
   "source": [
    "df_corretoras = df"
   ]
  },
  {
   "cell_type": "code",
   "execution_count": 18,
   "metadata": {},
   "outputs": [],
   "source": [
    "df_bancos = df"
   ]
  },
  {
   "cell_type": "code",
   "execution_count": 22,
   "metadata": {},
   "outputs": [],
   "source": [
    "df_resties = df"
   ]
  },
  {
   "cell_type": "code",
   "execution_count": 109,
   "metadata": {},
   "outputs": [
    {
     "data": {
      "text/html": [
       "<div>\n",
       "<style scoped>\n",
       "    .dataframe tbody tr th:only-of-type {\n",
       "        vertical-align: middle;\n",
       "    }\n",
       "\n",
       "    .dataframe tbody tr th {\n",
       "        vertical-align: top;\n",
       "    }\n",
       "\n",
       "    .dataframe thead th {\n",
       "        text-align: right;\n",
       "    }\n",
       "</style>\n",
       "<table border=\"1\" class=\"dataframe\">\n",
       "  <thead>\n",
       "    <tr style=\"text-align: right;\">\n",
       "      <th></th>\n",
       "      <th>ispb</th>\n",
       "      <th>name</th>\n",
       "      <th>code</th>\n",
       "      <th>fullName</th>\n",
       "    </tr>\n",
       "  </thead>\n",
       "  <tbody>\n",
       "    <tr>\n",
       "      <th>0</th>\n",
       "      <td>00000000</td>\n",
       "      <td>BCO DO BRASIL S.A.</td>\n",
       "      <td>1.0</td>\n",
       "      <td>Banco do Brasil S.A.</td>\n",
       "    </tr>\n",
       "  </tbody>\n",
       "</table>\n",
       "</div>"
      ],
      "text/plain": [
       "       ispb                name  code              fullName\n",
       "0  00000000  BCO DO BRASIL S.A.   1.0  Banco do Brasil S.A."
      ]
     },
     "execution_count": 109,
     "metadata": {},
     "output_type": "execute_result"
    }
   ],
   "source": [
    "df_bancos.head(1)"
   ]
  },
  {
   "cell_type": "code",
   "execution_count": 108,
   "metadata": {},
   "outputs": [
    {
     "data": {
      "text/html": [
       "<div>\n",
       "<style scoped>\n",
       "    .dataframe tbody tr th:only-of-type {\n",
       "        vertical-align: middle;\n",
       "    }\n",
       "\n",
       "    .dataframe tbody tr th {\n",
       "        vertical-align: top;\n",
       "    }\n",
       "\n",
       "    .dataframe thead th {\n",
       "        text-align: right;\n",
       "    }\n",
       "</style>\n",
       "<table border=\"1\" class=\"dataframe\">\n",
       "  <thead>\n",
       "    <tr style=\"text-align: right;\">\n",
       "      <th></th>\n",
       "      <th>cnpj</th>\n",
       "      <th>type</th>\n",
       "      <th>nome_social</th>\n",
       "      <th>nome_comercial</th>\n",
       "      <th>status</th>\n",
       "      <th>email</th>\n",
       "      <th>telefone</th>\n",
       "      <th>cep</th>\n",
       "      <th>pais</th>\n",
       "      <th>uf</th>\n",
       "      <th>municipio</th>\n",
       "      <th>bairro</th>\n",
       "      <th>complemento</th>\n",
       "      <th>logradouro</th>\n",
       "      <th>data_patrimonio_liquido</th>\n",
       "      <th>valor_patrimonio_liquido</th>\n",
       "      <th>codigo_cvm</th>\n",
       "      <th>data_inicio_situacao</th>\n",
       "      <th>data_registro</th>\n",
       "    </tr>\n",
       "  </thead>\n",
       "  <tbody>\n",
       "    <tr>\n",
       "      <th>0</th>\n",
       "      <td>76621457000185</td>\n",
       "      <td>CORRETORAS</td>\n",
       "      <td>4UM DTVM S.A.</td>\n",
       "      <td>4UM INVESTIMENTOS</td>\n",
       "      <td>CANCELADA</td>\n",
       "      <td>controle@4um.com.br</td>\n",
       "      <td>33519966</td>\n",
       "      <td>80420210</td>\n",
       "      <td>BRASIL</td>\n",
       "      <td>PR</td>\n",
       "      <td>CURITIBA</td>\n",
       "      <td>CENTRO</td>\n",
       "      <td>4º ANDAR</td>\n",
       "      <td>R. VISCONDE DO RIO BRANCO 1488</td>\n",
       "      <td>2005-12-31</td>\n",
       "      <td>4228660.18</td>\n",
       "      <td>2275</td>\n",
       "      <td>2006-10-05</td>\n",
       "      <td>1968-01-15</td>\n",
       "    </tr>\n",
       "  </tbody>\n",
       "</table>\n",
       "</div>"
      ],
      "text/plain": [
       "             cnpj        type    nome_social     nome_comercial     status  \\\n",
       "0  76621457000185  CORRETORAS  4UM DTVM S.A.  4UM INVESTIMENTOS  CANCELADA   \n",
       "\n",
       "                 email  telefone       cep    pais  uf municipio  bairro  \\\n",
       "0  controle@4um.com.br  33519966  80420210  BRASIL  PR  CURITIBA  CENTRO   \n",
       "\n",
       "  complemento                      logradouro data_patrimonio_liquido  \\\n",
       "0    4º ANDAR  R. VISCONDE DO RIO BRANCO 1488              2005-12-31   \n",
       "\n",
       "  valor_patrimonio_liquido codigo_cvm data_inicio_situacao data_registro  \n",
       "0               4228660.18       2275           2006-10-05    1968-01-15  "
      ]
     },
     "execution_count": 108,
     "metadata": {},
     "output_type": "execute_result"
    }
   ],
   "source": [
    "df_corretoras.head(1)"
   ]
  },
  {
   "cell_type": "code",
   "execution_count": 129,
   "metadata": {},
   "outputs": [
    {
     "data": {
      "text/html": [
       "<div>\n",
       "<style scoped>\n",
       "    .dataframe tbody tr th:only-of-type {\n",
       "        vertical-align: middle;\n",
       "    }\n",
       "\n",
       "    .dataframe tbody tr th {\n",
       "        vertical-align: top;\n",
       "    }\n",
       "\n",
       "    .dataframe thead th {\n",
       "        text-align: right;\n",
       "    }\n",
       "</style>\n",
       "<table border=\"1\" class=\"dataframe\">\n",
       "  <thead>\n",
       "    <tr style=\"text-align: right;\">\n",
       "      <th></th>\n",
       "      <th>name</th>\n",
       "      <th>tld</th>\n",
       "      <th>cca2</th>\n",
       "      <th>ccn3</th>\n",
       "      <th>cca3</th>\n",
       "      <th>cioc</th>\n",
       "      <th>independent</th>\n",
       "      <th>status</th>\n",
       "      <th>unMember</th>\n",
       "      <th>currencies</th>\n",
       "      <th>...</th>\n",
       "      <th>gini</th>\n",
       "      <th>fifa</th>\n",
       "      <th>car</th>\n",
       "      <th>timezones</th>\n",
       "      <th>continents</th>\n",
       "      <th>flags</th>\n",
       "      <th>coatOfArms</th>\n",
       "      <th>startOfWeek</th>\n",
       "      <th>capitalInfo</th>\n",
       "      <th>postalCode</th>\n",
       "    </tr>\n",
       "  </thead>\n",
       "  <tbody>\n",
       "    <tr>\n",
       "      <th>0</th>\n",
       "      <td>{'common': 'Nepal', 'official': 'Federal Democ...</td>\n",
       "      <td>[.np]</td>\n",
       "      <td>NP</td>\n",
       "      <td>524</td>\n",
       "      <td>NPL</td>\n",
       "      <td>NEP</td>\n",
       "      <td>True</td>\n",
       "      <td>officially-assigned</td>\n",
       "      <td>True</td>\n",
       "      <td>{'NPR': {'name': 'Nepalese rupee', 'symbol': '...</td>\n",
       "      <td>...</td>\n",
       "      <td>{'2010': 32.8}</td>\n",
       "      <td>NEP</td>\n",
       "      <td>{'signs': ['NEP'], 'side': 'left'}</td>\n",
       "      <td>[UTC+05:45]</td>\n",
       "      <td>[Asia]</td>\n",
       "      <td>{'png': 'https://flagcdn.com/w320/np.png', 'sv...</td>\n",
       "      <td>{'png': 'https://mainfacts.com/media/images/co...</td>\n",
       "      <td>sunday</td>\n",
       "      <td>{'latlng': [27.72, 85.32]}</td>\n",
       "      <td>{'format': '#####', 'regex': '^(\\d{5})$'}</td>\n",
       "    </tr>\n",
       "  </tbody>\n",
       "</table>\n",
       "<p>1 rows × 35 columns</p>\n",
       "</div>"
      ],
      "text/plain": [
       "                                                name    tld cca2 ccn3 cca3  \\\n",
       "0  {'common': 'Nepal', 'official': 'Federal Democ...  [.np]   NP  524  NPL   \n",
       "\n",
       "  cioc independent               status  unMember  \\\n",
       "0  NEP        True  officially-assigned      True   \n",
       "\n",
       "                                          currencies  ...            gini  \\\n",
       "0  {'NPR': {'name': 'Nepalese rupee', 'symbol': '...  ...  {'2010': 32.8}   \n",
       "\n",
       "  fifa                                 car    timezones continents  \\\n",
       "0  NEP  {'signs': ['NEP'], 'side': 'left'}  [UTC+05:45]     [Asia]   \n",
       "\n",
       "                                               flags  \\\n",
       "0  {'png': 'https://flagcdn.com/w320/np.png', 'sv...   \n",
       "\n",
       "                                          coatOfArms startOfWeek  \\\n",
       "0  {'png': 'https://mainfacts.com/media/images/co...      sunday   \n",
       "\n",
       "                  capitalInfo                                 postalCode  \n",
       "0  {'latlng': [27.72, 85.32]}  {'format': '#####', 'regex': '^(\\d{5})$'}  \n",
       "\n",
       "[1 rows x 35 columns]"
      ]
     },
     "execution_count": 129,
     "metadata": {},
     "output_type": "execute_result"
    }
   ],
   "source": [
    "df_resties.head(1)"
   ]
  },
  {
   "cell_type": "code",
   "execution_count": 7,
   "metadata": {},
   "outputs": [
    {
     "data": {
      "text/plain": [
       "'Nepal'"
      ]
     },
     "execution_count": 7,
     "metadata": {},
     "output_type": "execute_result"
    }
   ],
   "source": [
    "df['name'][0]['common']"
   ]
  },
  {
   "cell_type": "code",
   "execution_count": 130,
   "metadata": {},
   "outputs": [],
   "source": [
    "paises = [pais['common']for pais in df_resties['name']]"
   ]
  },
  {
   "cell_type": "code",
   "execution_count": 131,
   "metadata": {},
   "outputs": [],
   "source": [
    "capital = [cap for cap in df_resties['capital']]"
   ]
  },
  {
   "cell_type": "code",
   "execution_count": 132,
   "metadata": {},
   "outputs": [],
   "source": [
    "lingua = [lig for lig in df_resties['languages']]"
   ]
  },
  {
   "cell_type": "code",
   "execution_count": 133,
   "metadata": {},
   "outputs": [],
   "source": [
    "regiao = [reg for reg in df_resties['region']]         "
   ]
  },
  {
   "cell_type": "code",
   "execution_count": 134,
   "metadata": {},
   "outputs": [],
   "source": [
    "sigla = [sig for sig in df_resties['cca3']]"
   ]
  },
  {
   "cell_type": "code",
   "execution_count": 135,
   "metadata": {},
   "outputs": [],
   "source": [
    "fronteira = [front for front in df_resties['borders']]"
   ]
  },
  {
   "cell_type": "code",
   "execution_count": 136,
   "metadata": {},
   "outputs": [],
   "source": [
    "populacao = [pop for pop in df_resties['population']]"
   ]
  },
  {
   "cell_type": "code",
   "execution_count": 137,
   "metadata": {},
   "outputs": [],
   "source": [
    "df_paises = pd.DataFrame({\n",
    "    'Pais': paises, 'Capital': capital,\n",
    "    'Idioma': lingua, 'Continente': regiao,\n",
    "    'Sigla': sigla, 'Fronteiras': fronteira,\n",
    "    'Populaçao': populacao\n",
    "    })"
   ]
  },
  {
   "cell_type": "code",
   "execution_count": 138,
   "metadata": {},
   "outputs": [
    {
     "data": {
      "text/plain": [
       "0      False\n",
       "1      False\n",
       "2      False\n",
       "3      False\n",
       "4      False\n",
       "       ...  \n",
       "245    False\n",
       "246    False\n",
       "247    False\n",
       "248    False\n",
       "249    False\n",
       "Name: Idioma, Length: 250, dtype: bool"
      ]
     },
     "execution_count": 138,
     "metadata": {},
     "output_type": "execute_result"
    }
   ],
   "source": [
    "df_paises['Idioma'].isnull()"
   ]
  },
  {
   "cell_type": "code",
   "execution_count": 139,
   "metadata": {},
   "outputs": [],
   "source": [
    "df_paises['Idioma'].fillna('NA', inplace=True)"
   ]
  },
  {
   "cell_type": "code",
   "execution_count": 140,
   "metadata": {},
   "outputs": [
    {
     "data": {
      "text/plain": [
       "0      False\n",
       "1      False\n",
       "2      False\n",
       "3      False\n",
       "4      False\n",
       "       ...  \n",
       "245    False\n",
       "246    False\n",
       "247    False\n",
       "248    False\n",
       "249    False\n",
       "Name: Capital, Length: 250, dtype: bool"
      ]
     },
     "execution_count": 140,
     "metadata": {},
     "output_type": "execute_result"
    }
   ],
   "source": [
    "df_paises['Capital'].isnull()"
   ]
  },
  {
   "cell_type": "code",
   "execution_count": 141,
   "metadata": {},
   "outputs": [],
   "source": [
    "df_paises['Capital'].fillna('NA', inplace=True)"
   ]
  },
  {
   "cell_type": "code",
   "execution_count": 142,
   "metadata": {},
   "outputs": [
    {
     "data": {
      "text/plain": [
       "0      False\n",
       "1       True\n",
       "2      False\n",
       "3       True\n",
       "4      False\n",
       "       ...  \n",
       "245     True\n",
       "246    False\n",
       "247    False\n",
       "248     True\n",
       "249     True\n",
       "Name: Fronteiras, Length: 250, dtype: bool"
      ]
     },
     "execution_count": 142,
     "metadata": {},
     "output_type": "execute_result"
    }
   ],
   "source": [
    "df_paises['Fronteiras'].isnull()#front_nan = "
   ]
  },
  {
   "cell_type": "code",
   "execution_count": 143,
   "metadata": {},
   "outputs": [],
   "source": [
    "df_paises['Fronteiras'].fillna('NA', inplace=True)"
   ]
  },
  {
   "cell_type": "code",
   "execution_count": 144,
   "metadata": {},
   "outputs": [
    {
     "name": "stdout",
     "output_type": "stream",
     "text": [
      "<class 'pandas.core.frame.DataFrame'>\n",
      "RangeIndex: 250 entries, 0 to 249\n",
      "Data columns (total 7 columns):\n",
      " #   Column      Non-Null Count  Dtype \n",
      "---  ------      --------------  ----- \n",
      " 0   Pais        250 non-null    object\n",
      " 1   Capital     250 non-null    object\n",
      " 2   Idioma      250 non-null    object\n",
      " 3   Continente  250 non-null    object\n",
      " 4   Sigla       250 non-null    object\n",
      " 5   Fronteiras  250 non-null    object\n",
      " 6   Populaçao   250 non-null    int64 \n",
      "dtypes: int64(1), object(6)\n",
      "memory usage: 13.8+ KB\n"
     ]
    }
   ],
   "source": [
    "df_paises.info()"
   ]
  },
  {
   "cell_type": "code",
   "execution_count": 145,
   "metadata": {},
   "outputs": [
    {
     "data": {
      "text/html": [
       "<div>\n",
       "<style scoped>\n",
       "    .dataframe tbody tr th:only-of-type {\n",
       "        vertical-align: middle;\n",
       "    }\n",
       "\n",
       "    .dataframe tbody tr th {\n",
       "        vertical-align: top;\n",
       "    }\n",
       "\n",
       "    .dataframe thead th {\n",
       "        text-align: right;\n",
       "    }\n",
       "</style>\n",
       "<table border=\"1\" class=\"dataframe\">\n",
       "  <thead>\n",
       "    <tr style=\"text-align: right;\">\n",
       "      <th></th>\n",
       "      <th>Pais</th>\n",
       "      <th>Capital</th>\n",
       "      <th>Idioma</th>\n",
       "      <th>Continente</th>\n",
       "      <th>Sigla</th>\n",
       "      <th>Fronteiras</th>\n",
       "      <th>Populaçao</th>\n",
       "    </tr>\n",
       "  </thead>\n",
       "  <tbody>\n",
       "    <tr>\n",
       "      <th>0</th>\n",
       "      <td>Nepal</td>\n",
       "      <td>[Kathmandu]</td>\n",
       "      <td>{'nep': 'Nepali'}</td>\n",
       "      <td>Asia</td>\n",
       "      <td>NPL</td>\n",
       "      <td>[CHN, IND]</td>\n",
       "      <td>29136808</td>\n",
       "    </tr>\n",
       "    <tr>\n",
       "      <th>1</th>\n",
       "      <td>Kiribati</td>\n",
       "      <td>[South Tarawa]</td>\n",
       "      <td>{'eng': 'English', 'gil': 'Gilbertese'}</td>\n",
       "      <td>Oceania</td>\n",
       "      <td>KIR</td>\n",
       "      <td>NA</td>\n",
       "      <td>119446</td>\n",
       "    </tr>\n",
       "  </tbody>\n",
       "</table>\n",
       "</div>"
      ],
      "text/plain": [
       "       Pais         Capital                                   Idioma  \\\n",
       "0     Nepal     [Kathmandu]                        {'nep': 'Nepali'}   \n",
       "1  Kiribati  [South Tarawa]  {'eng': 'English', 'gil': 'Gilbertese'}   \n",
       "\n",
       "  Continente Sigla  Fronteiras  Populaçao  \n",
       "0       Asia   NPL  [CHN, IND]   29136808  \n",
       "1    Oceania   KIR          NA     119446  "
      ]
     },
     "execution_count": 145,
     "metadata": {},
     "output_type": "execute_result"
    }
   ],
   "source": [
    "df_paises.head(2)"
   ]
  },
  {
   "cell_type": "code",
   "execution_count": 149,
   "metadata": {},
   "outputs": [
    {
     "data": {
      "text/html": [
       "<div>\n",
       "<style scoped>\n",
       "    .dataframe tbody tr th:only-of-type {\n",
       "        vertical-align: middle;\n",
       "    }\n",
       "\n",
       "    .dataframe tbody tr th {\n",
       "        vertical-align: top;\n",
       "    }\n",
       "\n",
       "    .dataframe thead th {\n",
       "        text-align: right;\n",
       "    }\n",
       "</style>\n",
       "<table border=\"1\" class=\"dataframe\">\n",
       "  <thead>\n",
       "    <tr style=\"text-align: right;\">\n",
       "      <th></th>\n",
       "      <th>Pais</th>\n",
       "      <th>Capital</th>\n",
       "      <th>Idioma</th>\n",
       "      <th>Continente</th>\n",
       "      <th>Sigla</th>\n",
       "      <th>Fronteiras</th>\n",
       "      <th>Populaçao</th>\n",
       "    </tr>\n",
       "  </thead>\n",
       "  <tbody>\n",
       "    <tr>\n",
       "      <th>0</th>\n",
       "      <td>Nepal</td>\n",
       "      <td>[Kathmandu]</td>\n",
       "      <td>{'nep': 'Nepali'}</td>\n",
       "      <td>Asia</td>\n",
       "      <td>NPL</td>\n",
       "      <td>[CHN, IND]</td>\n",
       "      <td>29136808</td>\n",
       "    </tr>\n",
       "  </tbody>\n",
       "</table>\n",
       "</div>"
      ],
      "text/plain": [
       "    Pais      Capital             Idioma Continente Sigla  Fronteiras  \\\n",
       "0  Nepal  [Kathmandu]  {'nep': 'Nepali'}       Asia   NPL  [CHN, IND]   \n",
       "\n",
       "   Populaçao  \n",
       "0   29136808  "
      ]
     },
     "execution_count": 149,
     "metadata": {},
     "output_type": "execute_result"
    }
   ],
   "source": [
    "df_paises.head(1)"
   ]
  },
  {
   "cell_type": "code",
   "execution_count": 169,
   "metadata": {},
   "outputs": [
    {
     "data": {
      "text/html": [
       "<div>\n",
       "<style scoped>\n",
       "    .dataframe tbody tr th:only-of-type {\n",
       "        vertical-align: middle;\n",
       "    }\n",
       "\n",
       "    .dataframe tbody tr th {\n",
       "        vertical-align: top;\n",
       "    }\n",
       "\n",
       "    .dataframe thead th {\n",
       "        text-align: right;\n",
       "    }\n",
       "</style>\n",
       "<table border=\"1\" class=\"dataframe\">\n",
       "  <thead>\n",
       "    <tr style=\"text-align: right;\">\n",
       "      <th></th>\n",
       "      <th>ispb</th>\n",
       "      <th>name</th>\n",
       "      <th>code</th>\n",
       "      <th>fullName</th>\n",
       "    </tr>\n",
       "  </thead>\n",
       "  <tbody>\n",
       "    <tr>\n",
       "      <th>0</th>\n",
       "      <td>00000000</td>\n",
       "      <td>BCO DO BRASIL S.A.</td>\n",
       "      <td>1.0</td>\n",
       "      <td>Banco do Brasil S.A.</td>\n",
       "    </tr>\n",
       "    <tr>\n",
       "      <th>1</th>\n",
       "      <td>00000208</td>\n",
       "      <td>BRB - BCO DE BRASILIA S.A.</td>\n",
       "      <td>70.0</td>\n",
       "      <td>BRB - BANCO DE BRASILIA S.A.</td>\n",
       "    </tr>\n",
       "    <tr>\n",
       "      <th>2</th>\n",
       "      <td>00038121</td>\n",
       "      <td>Selic</td>\n",
       "      <td>NA</td>\n",
       "      <td>Banco Central do Brasil - Selic</td>\n",
       "    </tr>\n",
       "    <tr>\n",
       "      <th>3</th>\n",
       "      <td>00038166</td>\n",
       "      <td>Bacen</td>\n",
       "      <td>NA</td>\n",
       "      <td>Banco Central do Brasil</td>\n",
       "    </tr>\n",
       "    <tr>\n",
       "      <th>4</th>\n",
       "      <td>00122327</td>\n",
       "      <td>SANTINVEST S.A. - CFI</td>\n",
       "      <td>539.0</td>\n",
       "      <td>SANTINVEST S.A. - CREDITO, FINANCIAMENTO E INV...</td>\n",
       "    </tr>\n",
       "  </tbody>\n",
       "</table>\n",
       "</div>"
      ],
      "text/plain": [
       "       ispb                        name   code  \\\n",
       "0  00000000          BCO DO BRASIL S.A.    1.0   \n",
       "1  00000208  BRB - BCO DE BRASILIA S.A.   70.0   \n",
       "2  00038121                       Selic     NA   \n",
       "3  00038166                       Bacen     NA   \n",
       "4  00122327       SANTINVEST S.A. - CFI  539.0   \n",
       "\n",
       "                                            fullName  \n",
       "0                               Banco do Brasil S.A.  \n",
       "1                       BRB - BANCO DE BRASILIA S.A.  \n",
       "2                    Banco Central do Brasil - Selic  \n",
       "3                            Banco Central do Brasil  \n",
       "4  SANTINVEST S.A. - CREDITO, FINANCIAMENTO E INV...  "
      ]
     },
     "execution_count": 169,
     "metadata": {},
     "output_type": "execute_result"
    }
   ],
   "source": [
    "df_bancos.head()"
   ]
  },
  {
   "cell_type": "code",
   "execution_count": 177,
   "metadata": {},
   "outputs": [],
   "source": [
    "df_bancos['code'].fillna(0, inplace=True)"
   ]
  },
  {
   "cell_type": "code",
   "execution_count": 182,
   "metadata": {},
   "outputs": [
    {
     "data": {
      "text/html": [
       "<div>\n",
       "<style scoped>\n",
       "    .dataframe tbody tr th:only-of-type {\n",
       "        vertical-align: middle;\n",
       "    }\n",
       "\n",
       "    .dataframe tbody tr th {\n",
       "        vertical-align: top;\n",
       "    }\n",
       "\n",
       "    .dataframe thead th {\n",
       "        text-align: right;\n",
       "    }\n",
       "</style>\n",
       "<table border=\"1\" class=\"dataframe\">\n",
       "  <thead>\n",
       "    <tr style=\"text-align: right;\">\n",
       "      <th></th>\n",
       "      <th>ispb</th>\n",
       "      <th>name</th>\n",
       "      <th>code</th>\n",
       "      <th>fullName</th>\n",
       "    </tr>\n",
       "  </thead>\n",
       "  <tbody>\n",
       "    <tr>\n",
       "      <th>0</th>\n",
       "      <td>00000000</td>\n",
       "      <td>BCO DO BRASIL S.A.</td>\n",
       "      <td>1</td>\n",
       "      <td>Banco do Brasil S.A.</td>\n",
       "    </tr>\n",
       "    <tr>\n",
       "      <th>1</th>\n",
       "      <td>00000208</td>\n",
       "      <td>BRB - BCO DE BRASILIA S.A.</td>\n",
       "      <td>70</td>\n",
       "      <td>BRB - BANCO DE BRASILIA S.A.</td>\n",
       "    </tr>\n",
       "    <tr>\n",
       "      <th>2</th>\n",
       "      <td>00038121</td>\n",
       "      <td>Selic</td>\n",
       "      <td>0</td>\n",
       "      <td>Banco Central do Brasil - Selic</td>\n",
       "    </tr>\n",
       "    <tr>\n",
       "      <th>3</th>\n",
       "      <td>00038166</td>\n",
       "      <td>Bacen</td>\n",
       "      <td>0</td>\n",
       "      <td>Banco Central do Brasil</td>\n",
       "    </tr>\n",
       "    <tr>\n",
       "      <th>4</th>\n",
       "      <td>00122327</td>\n",
       "      <td>SANTINVEST S.A. - CFI</td>\n",
       "      <td>539</td>\n",
       "      <td>SANTINVEST S.A. - CREDITO, FINANCIAMENTO E INV...</td>\n",
       "    </tr>\n",
       "  </tbody>\n",
       "</table>\n",
       "</div>"
      ],
      "text/plain": [
       "       ispb                        name  code  \\\n",
       "0  00000000          BCO DO BRASIL S.A.     1   \n",
       "1  00000208  BRB - BCO DE BRASILIA S.A.    70   \n",
       "2  00038121                       Selic     0   \n",
       "3  00038166                       Bacen     0   \n",
       "4  00122327       SANTINVEST S.A. - CFI   539   \n",
       "\n",
       "                                            fullName  \n",
       "0                               Banco do Brasil S.A.  \n",
       "1                       BRB - BANCO DE BRASILIA S.A.  \n",
       "2                    Banco Central do Brasil - Selic  \n",
       "3                            Banco Central do Brasil  \n",
       "4  SANTINVEST S.A. - CREDITO, FINANCIAMENTO E INV...  "
      ]
     },
     "execution_count": 182,
     "metadata": {},
     "output_type": "execute_result"
    }
   ],
   "source": [
    "df_bancos.head()"
   ]
  },
  {
   "cell_type": "code",
   "execution_count": 180,
   "metadata": {},
   "outputs": [],
   "source": [
    "df_bancos['code'] = df_bancos['code'].astype(int)"
   ]
  },
  {
   "cell_type": "code",
   "execution_count": 185,
   "metadata": {},
   "outputs": [
    {
     "name": "stdout",
     "output_type": "stream",
     "text": [
      "<class 'pandas.core.frame.DataFrame'>\n",
      "RangeIndex: 359 entries, 0 to 358\n",
      "Data columns (total 4 columns):\n",
      " #   Column    Non-Null Count  Dtype \n",
      "---  ------    --------------  ----- \n",
      " 0   ispb      359 non-null    object\n",
      " 1   name      357 non-null    object\n",
      " 2   code      359 non-null    int32 \n",
      " 3   fullName  357 non-null    object\n",
      "dtypes: int32(1), object(3)\n",
      "memory usage: 9.9+ KB\n"
     ]
    }
   ],
   "source": [
    "df.info()"
   ]
  },
  {
   "cell_type": "code",
   "execution_count": 188,
   "metadata": {},
   "outputs": [],
   "source": [
    "colunas_com_nan = ['name', 'fullName']"
   ]
  },
  {
   "cell_type": "code",
   "execution_count": 189,
   "metadata": {},
   "outputs": [],
   "source": [
    "df_bancos = df_bancos.dropna(subset=colunas_com_nan)"
   ]
  },
  {
   "cell_type": "code",
   "execution_count": 190,
   "metadata": {},
   "outputs": [
    {
     "name": "stdout",
     "output_type": "stream",
     "text": [
      "<class 'pandas.core.frame.DataFrame'>\n",
      "Index: 357 entries, 0 to 356\n",
      "Data columns (total 4 columns):\n",
      " #   Column    Non-Null Count  Dtype \n",
      "---  ------    --------------  ----- \n",
      " 0   ispb      357 non-null    object\n",
      " 1   name      357 non-null    object\n",
      " 2   code      357 non-null    int32 \n",
      " 3   fullName  357 non-null    object\n",
      "dtypes: int32(1), object(3)\n",
      "memory usage: 12.6+ KB\n"
     ]
    }
   ],
   "source": [
    "df_bancos.info()"
   ]
  },
  {
   "cell_type": "code",
   "execution_count": 191,
   "metadata": {},
   "outputs": [
    {
     "data": {
      "text/html": [
       "<div>\n",
       "<style scoped>\n",
       "    .dataframe tbody tr th:only-of-type {\n",
       "        vertical-align: middle;\n",
       "    }\n",
       "\n",
       "    .dataframe tbody tr th {\n",
       "        vertical-align: top;\n",
       "    }\n",
       "\n",
       "    .dataframe thead th {\n",
       "        text-align: right;\n",
       "    }\n",
       "</style>\n",
       "<table border=\"1\" class=\"dataframe\">\n",
       "  <thead>\n",
       "    <tr style=\"text-align: right;\">\n",
       "      <th></th>\n",
       "      <th>ispb</th>\n",
       "      <th>name</th>\n",
       "      <th>code</th>\n",
       "      <th>fullName</th>\n",
       "    </tr>\n",
       "  </thead>\n",
       "  <tbody>\n",
       "    <tr>\n",
       "      <th>0</th>\n",
       "      <td>00000000</td>\n",
       "      <td>BCO DO BRASIL S.A.</td>\n",
       "      <td>1</td>\n",
       "      <td>Banco do Brasil S.A.</td>\n",
       "    </tr>\n",
       "    <tr>\n",
       "      <th>1</th>\n",
       "      <td>00000208</td>\n",
       "      <td>BRB - BCO DE BRASILIA S.A.</td>\n",
       "      <td>70</td>\n",
       "      <td>BRB - BANCO DE BRASILIA S.A.</td>\n",
       "    </tr>\n",
       "  </tbody>\n",
       "</table>\n",
       "</div>"
      ],
      "text/plain": [
       "       ispb                        name  code                      fullName\n",
       "0  00000000          BCO DO BRASIL S.A.     1          Banco do Brasil S.A.\n",
       "1  00000208  BRB - BCO DE BRASILIA S.A.    70  BRB - BANCO DE BRASILIA S.A."
      ]
     },
     "execution_count": 191,
     "metadata": {},
     "output_type": "execute_result"
    }
   ],
   "source": [
    "df_bancos.head(2)"
   ]
  },
  {
   "cell_type": "code",
   "execution_count": 212,
   "metadata": {},
   "outputs": [
    {
     "name": "stdout",
     "output_type": "stream",
     "text": [
      "<class 'pandas.core.frame.DataFrame'>\n",
      "Index: 369 entries, 0 to 371\n",
      "Data columns (total 19 columns):\n",
      " #   Column                    Non-Null Count  Dtype         \n",
      "---  ------                    --------------  -----         \n",
      " 0   cnpj                      369 non-null    object        \n",
      " 1   type                      369 non-null    object        \n",
      " 2   nome_social               369 non-null    object        \n",
      " 3   nome_comercial            369 non-null    object        \n",
      " 4   status                    369 non-null    object        \n",
      " 5   email                     369 non-null    object        \n",
      " 6   telefone                  369 non-null    object        \n",
      " 7   cep                       369 non-null    object        \n",
      " 8   pais                      369 non-null    object        \n",
      " 9   uf                        369 non-null    object        \n",
      " 10  municipio                 369 non-null    object        \n",
      " 11  bairro                    369 non-null    object        \n",
      " 12  complemento               369 non-null    object        \n",
      " 13  logradouro                369 non-null    object        \n",
      " 14  data_patrimonio_liquido   369 non-null    datetime64[ns]\n",
      " 15  valor_patrimonio_liquido  369 non-null    object        \n",
      " 16  codigo_cvm                369 non-null    object        \n",
      " 17  data_inicio_situacao      369 non-null    datetime64[ns]\n",
      " 18  data_registro             369 non-null    datetime64[ns]\n",
      "dtypes: datetime64[ns](3), object(16)\n",
      "memory usage: 57.7+ KB\n"
     ]
    }
   ],
   "source": [
    "df_corretoras.info()"
   ]
  },
  {
   "cell_type": "code",
   "execution_count": 193,
   "metadata": {},
   "outputs": [
    {
     "data": {
      "text/plain": [
       "0      2005-12-31\n",
       "1      2002-12-31\n",
       "2      1989-12-31\n",
       "3      2022-12-31\n",
       "4      2000-12-31\n",
       "          ...    \n",
       "367    2017-12-31\n",
       "368    2017-12-31\n",
       "369    2022-12-31\n",
       "370    1996-12-31\n",
       "371    2022-12-31\n",
       "Name: data_patrimonio_liquido, Length: 372, dtype: object"
      ]
     },
     "execution_count": 193,
     "metadata": {},
     "output_type": "execute_result"
    }
   ],
   "source": [
    "df_corretoras['data_patrimonio_liquido']"
   ]
  },
  {
   "cell_type": "code",
   "execution_count": 194,
   "metadata": {},
   "outputs": [],
   "source": [
    "df_corretoras['data_patrimonio_liquido'] = pd.to_datetime(df_corretoras['data_patrimonio_liquido'])"
   ]
  },
  {
   "cell_type": "code",
   "execution_count": 196,
   "metadata": {},
   "outputs": [],
   "source": [
    "df_corretoras['data_inicio_situacao'] = pd.to_datetime(df_corretoras['data_inicio_situacao'])"
   ]
  },
  {
   "cell_type": "code",
   "execution_count": 197,
   "metadata": {},
   "outputs": [],
   "source": [
    "df_corretoras['data_registro'] = pd.to_datetime(df_corretoras['data_registro'])"
   ]
  },
  {
   "cell_type": "code",
   "execution_count": 204,
   "metadata": {},
   "outputs": [],
   "source": [
    "colunas_nan_corretora = ['data_patrimonio_liquido']"
   ]
  },
  {
   "cell_type": "code",
   "execution_count": 211,
   "metadata": {},
   "outputs": [],
   "source": [
    "df_corretoras = df_corretoras.dropna(subset=colunas_nan_corretora)"
   ]
  },
  {
   "cell_type": "code",
   "execution_count": 218,
   "metadata": {},
   "outputs": [
    {
     "data": {
      "text/html": [
       "<div>\n",
       "<style scoped>\n",
       "    .dataframe tbody tr th:only-of-type {\n",
       "        vertical-align: middle;\n",
       "    }\n",
       "\n",
       "    .dataframe tbody tr th {\n",
       "        vertical-align: top;\n",
       "    }\n",
       "\n",
       "    .dataframe thead th {\n",
       "        text-align: right;\n",
       "    }\n",
       "</style>\n",
       "<table border=\"1\" class=\"dataframe\">\n",
       "  <thead>\n",
       "    <tr style=\"text-align: right;\">\n",
       "      <th></th>\n",
       "      <th>cnpj</th>\n",
       "      <th>type</th>\n",
       "      <th>nome_social</th>\n",
       "      <th>nome_comercial</th>\n",
       "      <th>status</th>\n",
       "      <th>email</th>\n",
       "      <th>telefone</th>\n",
       "      <th>cep</th>\n",
       "      <th>pais</th>\n",
       "      <th>uf</th>\n",
       "      <th>municipio</th>\n",
       "      <th>bairro</th>\n",
       "      <th>complemento</th>\n",
       "      <th>logradouro</th>\n",
       "      <th>data_patrimonio_liquido</th>\n",
       "      <th>valor_patrimonio_liquido</th>\n",
       "      <th>codigo_cvm</th>\n",
       "      <th>data_inicio_situacao</th>\n",
       "      <th>data_registro</th>\n",
       "    </tr>\n",
       "  </thead>\n",
       "  <tbody>\n",
       "    <tr>\n",
       "      <th>0</th>\n",
       "      <td>76621457000185</td>\n",
       "      <td>CORRETORAS</td>\n",
       "      <td>4UM DTVM S.A.</td>\n",
       "      <td>4UM INVESTIMENTOS</td>\n",
       "      <td>CANCELADA</td>\n",
       "      <td>controle@4um.com.br</td>\n",
       "      <td>33519966</td>\n",
       "      <td>80420210</td>\n",
       "      <td>BRASIL</td>\n",
       "      <td>PR</td>\n",
       "      <td>CURITIBA</td>\n",
       "      <td>CENTRO</td>\n",
       "      <td>4º ANDAR</td>\n",
       "      <td>R. VISCONDE DO RIO BRANCO 1488</td>\n",
       "      <td>31/12/2005</td>\n",
       "      <td>4228660.18</td>\n",
       "      <td>2275</td>\n",
       "      <td>05/10/2006</td>\n",
       "      <td>1968-01-15</td>\n",
       "    </tr>\n",
       "    <tr>\n",
       "      <th>1</th>\n",
       "      <td>33817677000176</td>\n",
       "      <td>CORRETORAS</td>\n",
       "      <td>ABC BRASIL DISTRIBUIDORA DE TÍTULOS E VALORES ...</td>\n",
       "      <td>ABC BRASIL CORRETORA</td>\n",
       "      <td>CANCELADA</td>\n",
       "      <td>regina.tkatch@abcbrasil.com.br</td>\n",
       "      <td>31702172</td>\n",
       "      <td>1453000</td>\n",
       "      <td></td>\n",
       "      <td>SP</td>\n",
       "      <td>SÃO PAULO</td>\n",
       "      <td>ITAIM BIBI</td>\n",
       "      <td>2º ANDAR</td>\n",
       "      <td>AV. CIDADE JARDIM, 803</td>\n",
       "      <td>31/12/2002</td>\n",
       "      <td>0.00</td>\n",
       "      <td>3514</td>\n",
       "      <td>14/10/2002</td>\n",
       "      <td>2002-10-14</td>\n",
       "    </tr>\n",
       "  </tbody>\n",
       "</table>\n",
       "</div>"
      ],
      "text/plain": [
       "             cnpj        type  \\\n",
       "0  76621457000185  CORRETORAS   \n",
       "1  33817677000176  CORRETORAS   \n",
       "\n",
       "                                         nome_social        nome_comercial  \\\n",
       "0                                      4UM DTVM S.A.     4UM INVESTIMENTOS   \n",
       "1  ABC BRASIL DISTRIBUIDORA DE TÍTULOS E VALORES ...  ABC BRASIL CORRETORA   \n",
       "\n",
       "      status                           email  telefone       cep    pais  uf  \\\n",
       "0  CANCELADA             controle@4um.com.br  33519966  80420210  BRASIL  PR   \n",
       "1  CANCELADA  regina.tkatch@abcbrasil.com.br  31702172   1453000          SP   \n",
       "\n",
       "   municipio      bairro complemento                      logradouro  \\\n",
       "0   CURITIBA      CENTRO    4º ANDAR  R. VISCONDE DO RIO BRANCO 1488   \n",
       "1  SÃO PAULO  ITAIM BIBI    2º ANDAR          AV. CIDADE JARDIM, 803   \n",
       "\n",
       "  data_patrimonio_liquido valor_patrimonio_liquido codigo_cvm  \\\n",
       "0              31/12/2005               4228660.18       2275   \n",
       "1              31/12/2002                     0.00       3514   \n",
       "\n",
       "  data_inicio_situacao data_registro  \n",
       "0           05/10/2006    1968-01-15  \n",
       "1           14/10/2002    2002-10-14  "
      ]
     },
     "execution_count": 218,
     "metadata": {},
     "output_type": "execute_result"
    }
   ],
   "source": [
    "df_corretoras.head(2)"
   ]
  },
  {
   "cell_type": "code",
   "execution_count": 215,
   "metadata": {},
   "outputs": [],
   "source": [
    "df_corretoras['data_patrimonio_liquido'] = df_corretoras['data_patrimonio_liquido'].dt.strftime('%d/%m/%Y')"
   ]
  },
  {
   "cell_type": "code",
   "execution_count": 217,
   "metadata": {},
   "outputs": [],
   "source": [
    "df_corretoras['data_inicio_situacao'] = df_corretoras['data_inicio_situacao'].dt.strftime('%d/%m/%Y')"
   ]
  },
  {
   "cell_type": "code",
   "execution_count": 219,
   "metadata": {},
   "outputs": [],
   "source": [
    "df_corretoras['data_registro'] = df_corretoras['data_registro'].dt.strftime('%d/%m/%Y')"
   ]
  },
  {
   "cell_type": "code",
   "execution_count": 224,
   "metadata": {},
   "outputs": [
    {
     "data": {
      "text/html": [
       "<div>\n",
       "<style scoped>\n",
       "    .dataframe tbody tr th:only-of-type {\n",
       "        vertical-align: middle;\n",
       "    }\n",
       "\n",
       "    .dataframe tbody tr th {\n",
       "        vertical-align: top;\n",
       "    }\n",
       "\n",
       "    .dataframe thead th {\n",
       "        text-align: right;\n",
       "    }\n",
       "</style>\n",
       "<table border=\"1\" class=\"dataframe\">\n",
       "  <thead>\n",
       "    <tr style=\"text-align: right;\">\n",
       "      <th></th>\n",
       "      <th>cnpj</th>\n",
       "      <th>type</th>\n",
       "      <th>nome_social</th>\n",
       "      <th>nome_comercial</th>\n",
       "      <th>status</th>\n",
       "      <th>email</th>\n",
       "      <th>telefone</th>\n",
       "      <th>cep</th>\n",
       "      <th>pais</th>\n",
       "      <th>uf</th>\n",
       "      <th>municipio</th>\n",
       "      <th>bairro</th>\n",
       "      <th>complemento</th>\n",
       "      <th>logradouro</th>\n",
       "      <th>data_patrimonio_liquido</th>\n",
       "      <th>valor_patrimonio_liquido</th>\n",
       "      <th>codigo_cvm</th>\n",
       "      <th>data_inicio_situacao</th>\n",
       "      <th>data_registro</th>\n",
       "    </tr>\n",
       "  </thead>\n",
       "  <tbody>\n",
       "    <tr>\n",
       "      <th>0</th>\n",
       "      <td>76621457000185</td>\n",
       "      <td>CORRETORAS</td>\n",
       "      <td>4UM DTVM S.A.</td>\n",
       "      <td>4UM INVESTIMENTOS</td>\n",
       "      <td>CANCELADA</td>\n",
       "      <td>controle@4um.com.br</td>\n",
       "      <td>33519966</td>\n",
       "      <td>80420210</td>\n",
       "      <td>BRASIL</td>\n",
       "      <td>PR</td>\n",
       "      <td>CURITIBA</td>\n",
       "      <td>CENTRO</td>\n",
       "      <td>4º ANDAR</td>\n",
       "      <td>R. VISCONDE DO RIO BRANCO 1488</td>\n",
       "      <td>31/12/2005</td>\n",
       "      <td>4228660.18</td>\n",
       "      <td>2275</td>\n",
       "      <td>05/10/2006</td>\n",
       "      <td>15/01/1968</td>\n",
       "    </tr>\n",
       "    <tr>\n",
       "      <th>1</th>\n",
       "      <td>33817677000176</td>\n",
       "      <td>CORRETORAS</td>\n",
       "      <td>ABC BRASIL DISTRIBUIDORA DE TÍTULOS E VALORES ...</td>\n",
       "      <td>ABC BRASIL CORRETORA</td>\n",
       "      <td>CANCELADA</td>\n",
       "      <td>regina.tkatch@abcbrasil.com.br</td>\n",
       "      <td>31702172</td>\n",
       "      <td>1453000</td>\n",
       "      <td></td>\n",
       "      <td>SP</td>\n",
       "      <td>SÃO PAULO</td>\n",
       "      <td>ITAIM BIBI</td>\n",
       "      <td>2º ANDAR</td>\n",
       "      <td>AV. CIDADE JARDIM, 803</td>\n",
       "      <td>31/12/2002</td>\n",
       "      <td>0.00</td>\n",
       "      <td>3514</td>\n",
       "      <td>14/10/2002</td>\n",
       "      <td>14/10/2002</td>\n",
       "    </tr>\n",
       "    <tr>\n",
       "      <th>2</th>\n",
       "      <td>10664027000132</td>\n",
       "      <td>CORRETORAS</td>\n",
       "      <td>ABERTURA CCVM LTDA</td>\n",
       "      <td>ABERTURA CCVM LTDA</td>\n",
       "      <td>CANCELADA</td>\n",
       "      <td></td>\n",
       "      <td></td>\n",
       "      <td>50010240</td>\n",
       "      <td>BRASIL</td>\n",
       "      <td>PE</td>\n",
       "      <td>RECIFE</td>\n",
       "      <td></td>\n",
       "      <td></td>\n",
       "      <td>R DO IMP.D.PEDRO II 239/CJ.102</td>\n",
       "      <td>31/12/1989</td>\n",
       "      <td>5995252.29</td>\n",
       "      <td>329</td>\n",
       "      <td>12/06/1990</td>\n",
       "      <td>08/07/1986</td>\n",
       "    </tr>\n",
       "    <tr>\n",
       "      <th>3</th>\n",
       "      <td>44527444000155</td>\n",
       "      <td>CORRETORAS</td>\n",
       "      <td>ABN AMRO CORRETORA DE T-TULOS E VALORES MOBILI...</td>\n",
       "      <td></td>\n",
       "      <td>EM FUNCIONAMENTO NORMAL</td>\n",
       "      <td>canal.comunicacao@br.abnamro.com</td>\n",
       "      <td>30737417</td>\n",
       "      <td>4551010</td>\n",
       "      <td></td>\n",
       "      <td>SP</td>\n",
       "      <td>SÃO PAULO</td>\n",
       "      <td>VILA OLIMPIA</td>\n",
       "      <td>11¦ ANDAR, CJ. 111</td>\n",
       "      <td>RUA FIDÛNCIO RAMOS, N¦ 302, TORRE B</td>\n",
       "      <td>31/12/2022</td>\n",
       "      <td>3729687.41</td>\n",
       "      <td>3794</td>\n",
       "      <td>20/06/2022</td>\n",
       "      <td>20/06/2022</td>\n",
       "    </tr>\n",
       "    <tr>\n",
       "      <th>4</th>\n",
       "      <td>33819590000138</td>\n",
       "      <td>CORRETORAS</td>\n",
       "      <td>AÇÃO S.A. CORRETORA DE VALORES E CÂMBIO</td>\n",
       "      <td>ACAO SA CVC</td>\n",
       "      <td>CANCELADA</td>\n",
       "      <td></td>\n",
       "      <td>5095755</td>\n",
       "      <td>20040040</td>\n",
       "      <td>BRASIL</td>\n",
       "      <td>RJ</td>\n",
       "      <td>RIO DE JANEIRO</td>\n",
       "      <td>CENTRO</td>\n",
       "      <td></td>\n",
       "      <td>PRAÇA OLAVO BILAC, 28/ SL. 608</td>\n",
       "      <td>31/12/2000</td>\n",
       "      <td>291862.38</td>\n",
       "      <td>1112</td>\n",
       "      <td>11/04/2001</td>\n",
       "      <td>19/04/1968</td>\n",
       "    </tr>\n",
       "  </tbody>\n",
       "</table>\n",
       "</div>"
      ],
      "text/plain": [
       "             cnpj        type  \\\n",
       "0  76621457000185  CORRETORAS   \n",
       "1  33817677000176  CORRETORAS   \n",
       "2  10664027000132  CORRETORAS   \n",
       "3  44527444000155  CORRETORAS   \n",
       "4  33819590000138  CORRETORAS   \n",
       "\n",
       "                                         nome_social        nome_comercial  \\\n",
       "0                                      4UM DTVM S.A.     4UM INVESTIMENTOS   \n",
       "1  ABC BRASIL DISTRIBUIDORA DE TÍTULOS E VALORES ...  ABC BRASIL CORRETORA   \n",
       "2                                 ABERTURA CCVM LTDA    ABERTURA CCVM LTDA   \n",
       "3  ABN AMRO CORRETORA DE T-TULOS E VALORES MOBILI...                         \n",
       "4            AÇÃO S.A. CORRETORA DE VALORES E CÂMBIO           ACAO SA CVC   \n",
       "\n",
       "                    status                             email  telefone  \\\n",
       "0                CANCELADA               controle@4um.com.br  33519966   \n",
       "1                CANCELADA    regina.tkatch@abcbrasil.com.br  31702172   \n",
       "2                CANCELADA                                               \n",
       "3  EM FUNCIONAMENTO NORMAL  canal.comunicacao@br.abnamro.com  30737417   \n",
       "4                CANCELADA                                     5095755   \n",
       "\n",
       "        cep    pais  uf       municipio        bairro         complemento  \\\n",
       "0  80420210  BRASIL  PR        CURITIBA        CENTRO            4º ANDAR   \n",
       "1   1453000          SP       SÃO PAULO    ITAIM BIBI            2º ANDAR   \n",
       "2  50010240  BRASIL  PE          RECIFE                                     \n",
       "3   4551010          SP       SÃO PAULO  VILA OLIMPIA  11¦ ANDAR, CJ. 111   \n",
       "4  20040040  BRASIL  RJ  RIO DE JANEIRO        CENTRO                       \n",
       "\n",
       "                            logradouro data_patrimonio_liquido  \\\n",
       "0       R. VISCONDE DO RIO BRANCO 1488              31/12/2005   \n",
       "1               AV. CIDADE JARDIM, 803              31/12/2002   \n",
       "2       R DO IMP.D.PEDRO II 239/CJ.102              31/12/1989   \n",
       "3  RUA FIDÛNCIO RAMOS, N¦ 302, TORRE B              31/12/2022   \n",
       "4       PRAÇA OLAVO BILAC, 28/ SL. 608              31/12/2000   \n",
       "\n",
       "  valor_patrimonio_liquido codigo_cvm data_inicio_situacao data_registro  \n",
       "0               4228660.18       2275           05/10/2006    15/01/1968  \n",
       "1                     0.00       3514           14/10/2002    14/10/2002  \n",
       "2               5995252.29        329           12/06/1990    08/07/1986  \n",
       "3               3729687.41       3794           20/06/2022    20/06/2022  \n",
       "4                291862.38       1112           11/04/2001    19/04/1968  "
      ]
     },
     "execution_count": 224,
     "metadata": {},
     "output_type": "execute_result"
    }
   ],
   "source": [
    "df_corretoras.head(5)"
   ]
  }
 ],
 "metadata": {
  "kernelspec": {
   "display_name": "Python 3",
   "language": "python",
   "name": "python3"
  },
  "language_info": {
   "codemirror_mode": {
    "name": "ipython",
    "version": 3
   },
   "file_extension": ".py",
   "mimetype": "text/x-python",
   "name": "python",
   "nbconvert_exporter": "python",
   "pygments_lexer": "ipython3",
   "version": "3.11.5"
  },
  "orig_nbformat": 4
 },
 "nbformat": 4,
 "nbformat_minor": 2
}
